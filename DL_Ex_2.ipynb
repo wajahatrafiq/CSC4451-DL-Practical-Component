{
  "nbformat": 4,
  "nbformat_minor": 0,
  "metadata": {
    "colab": {
      "provenance": []
    },
    "kernelspec": {
      "name": "python3",
      "display_name": "Python 3"
    },
    "language_info": {
      "name": "python"
    }
  },
  "cells": [
    {
      "cell_type": "code",
      "execution_count": 1,
      "metadata": {
        "id": "ZCfmK7GIYyy8"
      },
      "outputs": [],
      "source": [
        "from numpy import array, random, dot\n",
        "from random import choice\n",
        "step_function = lambda x: 0 if x < 0 else 1\n",
        "training_dataset = [\n",
        "\n",
        "    (array([0,0,1]), 0),\n",
        "\n",
        "    (array([0,1,1]), 1),\n",
        "\n",
        "    (array([1,0,1]), 1),\n",
        "\n",
        "    (array([1,1,1]), 1),\n",
        "\n",
        "]\n",
        "weights = random.rand(3)\n",
        "error = []\n",
        "\n",
        "learning_rate = 0.2\n",
        "\n",
        "n = 100"
      ]
    },
    {
      "cell_type": "code",
      "source": [
        "for j in range(n):\n",
        "\n",
        "    x, expected = choice(training_dataset)\n",
        "\n",
        "    result = dot(weights, x)\n",
        "\n",
        "    err = expected - step_function(result)\n",
        "\n",
        "    error.append(err)\n",
        "\n",
        "    weights += learning_rate * err * x\n",
        "for x, _ in training_dataset:\n",
        "\n",
        "    result = dot(x, weights)\n",
        "\n",
        "    print('{}: {} -> {}'.format(x[:2],result,step_function(result)))"
      ],
      "metadata": {
        "colab": {
          "base_uri": "https://localhost:8080/"
        },
        "id": "QTZ49xG5YzuB",
        "outputId": "e73a50b4-8aa0-4f88-e009-a1cf3f652351"
      },
      "execution_count": 2,
      "outputs": [
        {
          "output_type": "stream",
          "name": "stdout",
          "text": [
            "[0 0]: -0.02349758684594344 -> 0\n",
            "[0 1]: 0.23474071287359327 -> 1\n",
            "[1 0]: 0.3169545749942821 -> 1\n",
            "[1 1]: 0.5751928747138189 -> 1\n"
          ]
        }
      ]
    },
    {
      "cell_type": "code",
      "source": [
        "from pylab import ylim,plot\n",
        "\n",
        "from matplotlib import pyplot as plt\n",
        "\n",
        "ylim([-1,1])\n",
        "\n",
        "plot(error)\n",
        "\n",
        "plt.show()"
      ],
      "metadata": {
        "colab": {
          "base_uri": "https://localhost:8080/",
          "height": 269
        },
        "id": "LDRikdH0Y6uj",
        "outputId": "22e21f36-cc65-4a30-8f63-0e245729a8ce"
      },
      "execution_count": 3,
      "outputs": [
        {
          "output_type": "display_data",
          "data": {
            "text/plain": [
              "<Figure size 432x288 with 1 Axes>"
            ],
            "image/png": "[encoded data removed]"
          },
          "metadata": {
            "needs_background": "light"
          }
        }
      ]
    },
    {
      "cell_type": "code",
      "source": [],
      "metadata": {
        "id": "RqFLyhOxY9lS"
      },
      "execution_count": null,
      "outputs": []
    }
  ]
}