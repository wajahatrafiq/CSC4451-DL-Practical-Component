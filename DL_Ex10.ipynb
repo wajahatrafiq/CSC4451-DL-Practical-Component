{
  "nbformat": 4,
  "nbformat_minor": 0,
  "metadata": {
    "colab": {
      "provenance": [],
      "include_colab_link": true
    },
    "kernelspec": {
      "name": "python3",
      "display_name": "Python 3"
    },
    "language_info": {
      "name": "python"
    }
  },
  "cells": [
    {
      "cell_type": "markdown",
      "metadata": {
        "id": "view-in-github",
        "colab_type": "text"
      },
      "source": [
        "<a href=\"https://colab.research.google.com/github/avimallick/Deep-Learning-Assignments/blob/master/19113015_DL_Exercise10.ipynb\" target=\"_parent\"><img src=\"https://colab.research.google.com/assets/colab-badge.svg\" alt=\"Open In Colab\"/></a>"
      ]
    },
    {
      "cell_type": "markdown",
      "source": [
        "# DEEP LEARNING ASSIGNMENT 10\n",
        "\n",
        "## AVINASH MALLICK\n",
        "## 19113015\n",
        "## CSE-7A\n",
        "\n",
        "\n",
        "# CartPole With Policy Gradient TensorFlow 2.x"
      ],
      "metadata": {
        "id": "X5novNd6H_zm"
      }
    },
    {
      "cell_type": "code",
      "source": [
        "import tensorflow as tf\n",
        "import numpy as np\n",
        "from tensorflow.keras import Model\n",
        "import tensorflow_probability as tfp"
      ],
      "metadata": {
        "id": "24Rfbj-hIBjU"
      },
      "execution_count": 1,
      "outputs": []
    },
    {
      "cell_type": "code",
      "source": [
        "#Make model\n",
        "class MakeModel(Model):\n",
        "    def __init__(self,num_actions):\n",
        "        super().__init__()\n",
        "        self.fc1 = tf.keras.layers.Dense(64,activation='relu')\n",
        "        self.fc2 = tf.keras.layers.Dense(64,activation='relu')\n",
        "        self.action = tf.keras.layers.Dense(num_actions,activation='softmax')\n",
        "        \n",
        "\n",
        "    def call(self,state):\n",
        "        x = tf.convert_to_tensor(state)\n",
        "        x = self.fc1(x)\n",
        "        x = self.fc2(x)\n",
        "        x = self.action(x)\n",
        "        return x"
      ],
      "metadata": {
        "id": "T9zp6t6eHBN2"
      },
      "execution_count": 2,
      "outputs": []
    },
    {
      "cell_type": "code",
      "source": [
        "#Make Agent\n",
        "class Agent:\n",
        "    def __init__(self,gamma=0.95,lr=0.001,n_actions=2):\n",
        "        self.gamma = gamma\n",
        "        self.lr = lr\n",
        "        self.model = MakeModel(n_actions)\n",
        "        self.opt = tf.keras.optimizers.Adam(learning_rate=self.lr)\n",
        "        self.action_memory = []\n",
        "        self.reward_memory = []\n",
        "        self.state_memory = []\n",
        "\n",
        "    def choose_action(self,state):\n",
        "        prob = self.model(np.array([state]))\n",
        "        dist = tfp.distributions.Categorical(probs=prob,dtype=tf.float32)\n",
        "        action = dist.sample()\n",
        "        self.action_memory.append(action)\n",
        "        return int(action.numpy()[0])\n",
        "\n",
        "    def store_reward(self,reward):\n",
        "        self.reward_memory.append(reward)\n",
        "\n",
        "    def store_state(self,state):\n",
        "        self.state_memory.append(state)\n",
        "\n",
        "    def learn(self):\n",
        "        # G = np.zeros_like(self.reward_memory)\n",
        "        # for i in range(len(self.reward_memory)):\n",
        "        #     discount = 1\n",
        "        #     g_sum = 0\n",
        "        #     for j in range(i,len(self.reward_memory)):\n",
        "        #         g_sum += self.reward_memory[j] * discount\n",
        "        #         discount *= self.gamma\n",
        "        #     G[i] = g_sum\n",
        "        sum_reward = 0\n",
        "        discnt_rewards = []\n",
        "        self.reward_memory.reverse()\n",
        "        for r in self.reward_memory:\n",
        "            sum_reward = r + self.gamma*sum_reward\n",
        "            discnt_rewards.append(sum_reward)\n",
        "        discnt_rewards.reverse() \n",
        "        \n",
        "\n",
        "        for state,action,reward in zip(self.state_memory,self.action_memory,discnt_rewards):\n",
        "            with tf.GradientTape() as tape:\n",
        "                p = self.model(np.array([state]),training=True)\n",
        "                loss = self.calc_loss(p,action,reward)\n",
        "                grads = tape.gradient(loss,self.model.trainable_variables)\n",
        "                self.opt.apply_gradients(zip(grads,self.model.trainable_variables))\n",
        "\n",
        "        self.reward_memory = []\n",
        "        self.action_memory = []\n",
        "        self.state_memory = []\n",
        "\n",
        "    def calc_loss(self,prob,action,reward):\n",
        "        dist = tfp.distributions.Categorical(probs=prob, dtype=tf.float32)\n",
        "        log_prob = dist.log_prob(action)\n",
        "        loss = -log_prob*reward\n",
        "        return loss\n",
        "      \n",
        "    def store_reward(self,reward):\n",
        "        self.reward_memory.append(reward)\n",
        "\n",
        "    def store_state(self,state):\n",
        "        self.state_memory.append(state)"
      ],
      "metadata": {
        "id": "WLPra-70GxgY"
      },
      "execution_count": 3,
      "outputs": []
    },
    {
      "cell_type": "code",
      "source": [
        "#Main loop\n",
        "import gym\n",
        "env = gym.make('CartPole-v0')\n",
        "agent = Agent()\n",
        "num_episodes = 50\n",
        "\n",
        "for i in range(num_episodes):\n",
        "    state = env.reset()\n",
        "    score = 0\n",
        "    rewards = []\n",
        "    states = []\n",
        "    actions = []\n",
        "    done = False\n",
        "    while not done:\n",
        "        action = agent.choose_action(state)\n",
        "        state_,reward,done,_ = env.step(action)\n",
        "        agent.store_reward(reward)\n",
        "        agent.store_state(state)\n",
        "        state = state_\n",
        "        score += reward\n",
        "        # env.render()\n",
        "        if done:\n",
        "            agent.learn()\n",
        "            print(f'episode done: {i+1}\\t score recieved: {score}')"
      ],
      "metadata": {
        "colab": {
          "base_uri": "https://localhost:8080/"
        },
        "id": "Ou1AW8PpHbTC",
        "outputId": "16fa69ce-970f-4289-ad23-91050feba235"
      },
      "execution_count": 4,
      "outputs": [
        {
          "output_type": "stream",
          "name": "stderr",
          "text": [
            "/usr/local/lib/python3.7/dist-packages/gym/envs/registration.py:594: UserWarning: \u001b[33mWARN: The environment CartPole-v0 is out of date. You should consider upgrading to version `v1`.\u001b[0m\n",
            "  f\"The environment {id} is out of date. You should consider \"\n",
            "/usr/local/lib/python3.7/dist-packages/gym/core.py:318: DeprecationWarning: \u001b[33mWARN: Initializing wrapper in old step API which returns one bool instead of two. It is recommended to set `new_step_api=True` to use new step API. This will be the default behaviour in future.\u001b[0m\n",
            "  \"Initializing wrapper in old step API which returns one bool instead of two. It is recommended to set `new_step_api=True` to use new step API. This will be the default behaviour in future.\"\n",
            "/usr/local/lib/python3.7/dist-packages/gym/wrappers/step_api_compatibility.py:40: DeprecationWarning: \u001b[33mWARN: Initializing environment in old step API which returns one bool instead of two. It is recommended to set `new_step_api=True` to use new step API. This will be the default behaviour in future.\u001b[0m\n",
            "  \"Initializing environment in old step API which returns one bool instead of two. It is recommended to set `new_step_api=True` to use new step API. This will be the default behaviour in future.\"\n"
          ]
        },
        {
          "output_type": "stream",
          "name": "stdout",
          "text": [
            "episode done: 1\t score recieved: 35.0\n",
            "episode done: 2\t score recieved: 10.0\n",
            "episode done: 3\t score recieved: 11.0\n",
            "episode done: 4\t score recieved: 43.0\n",
            "episode done: 5\t score recieved: 14.0\n",
            "episode done: 6\t score recieved: 39.0\n",
            "episode done: 7\t score recieved: 22.0\n",
            "episode done: 8\t score recieved: 19.0\n",
            "episode done: 9\t score recieved: 17.0\n",
            "episode done: 10\t score recieved: 13.0\n",
            "episode done: 11\t score recieved: 49.0\n",
            "episode done: 12\t score recieved: 15.0\n",
            "episode done: 13\t score recieved: 27.0\n",
            "episode done: 14\t score recieved: 10.0\n",
            "episode done: 15\t score recieved: 58.0\n",
            "episode done: 16\t score recieved: 20.0\n",
            "episode done: 17\t score recieved: 26.0\n",
            "episode done: 18\t score recieved: 26.0\n",
            "episode done: 19\t score recieved: 22.0\n",
            "episode done: 20\t score recieved: 52.0\n",
            "episode done: 21\t score recieved: 57.0\n",
            "episode done: 22\t score recieved: 36.0\n",
            "episode done: 23\t score recieved: 24.0\n",
            "episode done: 24\t score recieved: 15.0\n",
            "episode done: 25\t score recieved: 28.0\n",
            "episode done: 26\t score recieved: 17.0\n",
            "episode done: 27\t score recieved: 19.0\n",
            "episode done: 28\t score recieved: 64.0\n",
            "episode done: 29\t score recieved: 33.0\n",
            "episode done: 30\t score recieved: 51.0\n",
            "episode done: 31\t score recieved: 83.0\n",
            "episode done: 32\t score recieved: 57.0\n",
            "episode done: 33\t score recieved: 24.0\n",
            "episode done: 34\t score recieved: 16.0\n",
            "episode done: 35\t score recieved: 143.0\n",
            "episode done: 36\t score recieved: 12.0\n",
            "episode done: 37\t score recieved: 26.0\n",
            "episode done: 38\t score recieved: 15.0\n",
            "episode done: 39\t score recieved: 117.0\n",
            "episode done: 40\t score recieved: 33.0\n",
            "episode done: 41\t score recieved: 22.0\n",
            "episode done: 42\t score recieved: 38.0\n",
            "episode done: 43\t score recieved: 27.0\n",
            "episode done: 44\t score recieved: 95.0\n",
            "episode done: 45\t score recieved: 112.0\n",
            "episode done: 46\t score recieved: 40.0\n",
            "episode done: 47\t score recieved: 26.0\n",
            "episode done: 48\t score recieved: 31.0\n",
            "episode done: 49\t score recieved: 108.0\n",
            "episode done: 50\t score recieved: 119.0\n"
          ]
        }
      ]
    },
    {
      "cell_type": "code",
      "source": [],
      "metadata": {
        "id": "tng6YfExbmwo"
      },
      "execution_count": null,
      "outputs": []
    }
  ]
}